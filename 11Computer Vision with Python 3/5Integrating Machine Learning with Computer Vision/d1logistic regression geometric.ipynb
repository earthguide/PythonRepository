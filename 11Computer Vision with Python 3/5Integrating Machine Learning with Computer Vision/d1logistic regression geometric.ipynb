{
 "cells": [
  {
   "cell_type": "code",
   "execution_count": null,
   "metadata": {
    "collapsed": false,
    "deletable": true,
    "editable": true
   },
   "outputs": [],
   "source": [
    "# https://florianhartl.com/logistic-regression-geometric-intuition.html\n",
    "import sklearn.linear_model\n",
    "import sklearn.svm\n",
    "import numpy as np\n",
    "import plotly\n",
    "from plotly.offline import download_plotlyjs, init_notebook_mode, plot, iplot\n",
    "import plotly.graph_objs as go\n",
    "init_notebook_mode()"
   ]
  },
  {
   "cell_type": "code",
   "execution_count": null,
   "metadata": {
    "collapsed": false,
    "deletable": true,
    "editable": true
   },
   "outputs": [],
   "source": [
    "# to make sure we always get the same \"random\" data\n",
    "np.random.seed(1)\n",
    "\n",
    "X = np.r_[np.random.randn(20, 2), np.random.randn(20, 2) + [4, 4]]\n",
    "\n",
    "# allows for graphs with width > height without distorting the aspect ratio\n",
    "X[:, 1] = X[:, 1] / 2.0\n",
    "\n",
    "y = np.r_[np.zeros(20), np.ones(20)]\n",
    "\n",
    "feature_1 = np.atleast_2d(X[:, 0]).T\n",
    "feature_2 = np.atleast_2d(X[:, 1]).T"
   ]
  },
  {
   "cell_type": "code",
   "execution_count": null,
   "metadata": {
    "collapsed": false,
    "deletable": true,
    "editable": true
   },
   "outputs": [],
   "source": [
    "# Notice the very relaxed regularization\n",
    "logistic = sklearn.linear_model.LogisticRegression(C=10)\n",
    "logistic.fit(feature_1, y)\n",
    "logistic.intercept_[0], logistic.coef_[0]"
   ]
  },
  {
   "cell_type": "code",
   "execution_count": null,
   "metadata": {
    "collapsed": false,
    "deletable": true,
    "editable": true
   },
   "outputs": [],
   "source": [
    "xaxis = go.XAxis(title='Feature', zeroline=False)\n",
    "yaxis = go.YAxis(title='y', range=[-0.5, 1.5], zeroline=False)\n",
    "x_range = np.arange(np.min(feature_1), np.max(feature_1), 0.05)\n",
    "z_func = logistic.intercept_[0] + (logistic.coef_[0][0] * x_range)\n",
    "g_func = 1 / (1 + np.exp(-z_func))\n",
    "\n",
    "samples_y0 = go.Scatter(\n",
    "    x=feature_1[:20],\n",
    "    y=y[:20],\n",
    "    mode='markers',\n",
    "    name='samples (y=0)',\n",
    "    marker=go.Marker(\n",
    "        color='red',\n",
    "        size=8,\n",
    "    ),\n",
    ")\n",
    "samples_y1 = go.Scatter(\n",
    "    x=feature_1[20:],\n",
    "    y=y[20:],\n",
    "    mode='markers',\n",
    "    name='samples (y=1)',\n",
    "    marker=go.Marker(\n",
    "        color='blue',\n",
    "        size=8,\n",
    "    ),\n",
    ")\n",
    "linear_function = go.Scatter(\n",
    "    x=x_range,\n",
    "    y=z_func,\n",
    "    mode='lines',\n",
    "    name='linear: z',\n",
    "    line=go.Line(\n",
    "        dash='dash',\n",
    "        color='orange',\n",
    "    ),\n",
    ")\n",
    "logistic_function = go.Scatter(\n",
    "    x=x_range,\n",
    "    y=g_func,\n",
    "    mode='lines',\n",
    "    name='logistic: g(z)',\n",
    "    line=go.Line(color='rgb(44, 160, 44)'),\n",
    ")\n",
    "data = go.Data([linear_function, logistic_function, samples_y0, samples_y1])\n",
    "layout = go.Layout(\n",
    "    title='Logistic Regression: 1 Feature',\n",
    "    legend=go.Legend(traceorder='reversed'),\n",
    "    xaxis=xaxis,\n",
    "    yaxis=yaxis,\n",
    "    autosize=False,\n",
    "    width=800,\n",
    "    height=400,\n",
    ")\n",
    "fig = go.Figure(data=data, layout=layout)\n",
    "plotly.offline.iplot(fig, filename='Logistic Regression: 1 Feature')"
   ]
  },
  {
   "cell_type": "code",
   "execution_count": null,
   "metadata": {
    "collapsed": true,
    "deletable": true,
    "editable": true
   },
   "outputs": [],
   "source": []
  },
  {
   "cell_type": "code",
   "execution_count": null,
   "metadata": {
    "collapsed": true
   },
   "outputs": [],
   "source": []
  }
 ],
 "metadata": {
  "kernelspec": {
   "display_name": "Python 3",
   "language": "python",
   "name": "python3"
  },
  "language_info": {
   "codemirror_mode": {
    "name": "ipython",
    "version": 3
   },
   "file_extension": ".py",
   "mimetype": "text/x-python",
   "name": "python",
   "nbconvert_exporter": "python",
   "pygments_lexer": "ipython3",
   "version": "3.5.0"
  }
 },
 "nbformat": 4,
 "nbformat_minor": 2
}
